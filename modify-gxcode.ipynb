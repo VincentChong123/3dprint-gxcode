{
 "cells": [
  {
   "cell_type": "code",
   "execution_count": 25,
   "metadata": {},
   "outputs": [
    {
     "name": "stdout",
     "output_type": "stream",
     "text": [
      "000: ;machine_type: Creator Pro 2 \n",
      "001: ;right_extruder_material: PLA \n",
      "002: ;right_extruder_material_density: 1.24 \n",
      "003: ;filament_diameter0: 1.75 \n",
      "004: ;right_extruder_temperature: 210 \n",
      "005: ;layer_height: 0.18 \n",
      "006: ;perimeter_shells: 2 \n",
      "007: ;top_solid_layers: 3 \n",
      "008: ;bottom_solid_layers: 3 \n",
      "009: ;fill_density: 15% \n",
      "010: ;fill_pattern: hexagon \n",
      "011: ;base_print_speed: 60 \n",
      "012: ;travel_speed: 100 \n",
      "013: ;platform_temperature: 40 \n",
      "014: ;right_extruder_temperature_raft0: 0 \n",
      "015: ;right_extruder_temperature_reset: \n",
      "016: ;left_extruder_temperature_reset: \n",
      "017: ;layer_total_count: 22 \n",
      "018: ;start gcode \n",
      "019: M118 X29.05 Y10.00 Z4.10 T0 \n",
      "020: M140 S40 T0 \n",
      "021: M104 S210 T0 \n",
      "022: M104 S0 T1 \n",
      "023: M107 \n",
      "024: G90 \n",
      "025: G28 \n",
      "026: M132 X Y Z A B \n",
      "027: G1 Z50.000 F420 \t\t\t\t#\n",
      "028: G161 X Y F3300 \n",
      "029: M7 T0 \n",
      "030: M6 T0 \n",
      "031: M651 S255 \n",
      "032: ;layer_count: 22 \n",
      "033: M108 T0 \n",
      "034: G1 X9.40 Y-9.40 F6000 \n",
      "035: ;raft \n",
      "036: ;layer:0.27 \n",
      "037: G1 Z0.270 F420 \t\t\t\t#\n",
      "038: ;structure:shell-inner \n",
      "039: ;extrude_ratio:1.05505 \n"
     ]
    }
   ],
   "source": [
    "gx_path = \"./gxcode/floating-4mm.gx\"\n",
    "with open(gx_path, \"rb\") as f:\n",
    "    lines = f.readlines()[3:]\n",
    "\n",
    "z_lines = [] #[line for line in lines if \"G1 Z\" in lines]\n",
    "\n",
    "f = open(gx_path+\"_edited.gx\",\"wb+\")\n",
    "\n",
    "for n, line in enumerate(lines[:40]):\n",
    "    # suffix = \"#\" if \"G1 Z\" in line else \".\"\n",
    "    print(\"%03d: %s \"% (n, str(line.strip())[2:-1]), end=\"\")\n",
    "    if \"G1 Z\" in str(line):\n",
    "        print(\"\\t\\t\\t\\t#\")\n",
    "    else:\n",
    "        print(\"\")\n"
   ]
  },
  {
   "cell_type": "code",
   "execution_count": 1,
   "metadata": {},
   "outputs": [],
   "source": [
    "import os"
   ]
  },
  {
   "cell_type": "code",
   "execution_count": 10,
   "metadata": {},
   "outputs": [
    {
     "data": {
      "text/plain": [
       "True"
      ]
     },
     "execution_count": 10,
     "metadata": {},
     "output_type": "execute_result"
    }
   ],
   "source": [
    "\n",
    "\"G1 Z\" in \"G1 Z50.000 F420\""
   ]
  }
 ],
 "metadata": {
  "kernelspec": {
   "display_name": "py311",
   "language": "python",
   "name": "python3"
  },
  "language_info": {
   "codemirror_mode": {
    "name": "ipython",
    "version": 3
   },
   "file_extension": ".py",
   "mimetype": "text/x-python",
   "name": "python",
   "nbconvert_exporter": "python",
   "pygments_lexer": "ipython3",
   "version": "3.11.5"
  }
 },
 "nbformat": 4,
 "nbformat_minor": 2
}
